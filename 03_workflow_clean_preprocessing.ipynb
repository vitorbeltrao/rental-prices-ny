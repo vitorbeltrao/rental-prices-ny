{
 "cells": [
  {
   "attachments": {},
   "cell_type": "markdown",
   "metadata": {},
   "source": [
    "# Clean and Preprocessing Data"
   ]
  },
  {
   "cell_type": "code",
   "execution_count": 1,
   "metadata": {},
   "outputs": [],
   "source": [
    "# import necessary packages\n",
    "import pandas as pd\n",
    "import wandb\n",
    "\n",
    "from sklearn.preprocessing import StandardScaler\n",
    "from sklearn.preprocessing import OneHotEncoder, OrdinalEncoder\n",
    "\n",
    "from sklearn.compose import ColumnTransformer\n",
    "from sklearn.compose import make_column_selector as selector\n",
    "\n",
    "from sklearn.pipeline import Pipeline, make_pipeline\n",
    "\n",
    "from sklearn.impute import SimpleImputer\n",
    "\n",
    "import category_encoders as ce"
   ]
  },
  {
   "cell_type": "code",
   "execution_count": 2,
   "metadata": {},
   "outputs": [
    {
     "name": "stderr",
     "output_type": "stream",
     "text": [
      "Failed to detect the name of this notebook, you can set it manually with the WANDB_NOTEBOOK_NAME environment variable to enable code saving.\n",
      "\u001b[34m\u001b[1mwandb\u001b[0m: Currently logged in as: \u001b[33mvitorbeltraoo\u001b[0m (\u001b[33mvitorabdo\u001b[0m). Use \u001b[1m`wandb login --relogin`\u001b[0m to force relogin\n"
     ]
    },
    {
     "data": {
      "text/html": [
       "Tracking run with wandb version 0.13.9"
      ],
      "text/plain": [
       "<IPython.core.display.HTML object>"
      ]
     },
     "metadata": {},
     "output_type": "display_data"
    },
    {
     "data": {
      "text/html": [
       "Run data is saved locally in <code>c:\\Users\\4YouSee\\Desktop\\personal_work\\rental-prices-ny\\wandb\\run-20230201_142911-sd6fx74j</code>"
      ],
      "text/plain": [
       "<IPython.core.display.HTML object>"
      ]
     },
     "metadata": {},
     "output_type": "display_data"
    },
    {
     "data": {
      "text/html": [
       "Syncing run <strong><a href=\"https://wandb.ai/vitorabdo/rental-prices-ny/runs/sd6fx74j\" target=\"_blank\">twinkling-orchid-52</a></strong> to <a href=\"https://wandb.ai/vitorabdo/rental-prices-ny\" target=\"_blank\">Weights & Biases</a> (<a href=\"https://wandb.me/run\" target=\"_blank\">docs</a>)<br/>"
      ],
      "text/plain": [
       "<IPython.core.display.HTML object>"
      ]
     },
     "metadata": {},
     "output_type": "display_data"
    },
    {
     "data": {
      "text/html": [
       " View project at <a href=\"https://wandb.ai/vitorabdo/rental-prices-ny\" target=\"_blank\">https://wandb.ai/vitorabdo/rental-prices-ny</a>"
      ],
      "text/plain": [
       "<IPython.core.display.HTML object>"
      ]
     },
     "metadata": {},
     "output_type": "display_data"
    },
    {
     "data": {
      "text/html": [
       " View run at <a href=\"https://wandb.ai/vitorabdo/rental-prices-ny/runs/sd6fx74j\" target=\"_blank\">https://wandb.ai/vitorabdo/rental-prices-ny/runs/sd6fx74j</a>"
      ],
      "text/plain": [
       "<IPython.core.display.HTML object>"
      ]
     },
     "metadata": {},
     "output_type": "display_data"
    },
    {
     "name": "stderr",
     "output_type": "stream",
     "text": [
      "C:\\Users\\4YouSee\\AppData\\Local\\Temp\\ipykernel_27128\\1966939953.py:5: DtypeWarning: Columns (17) have mixed types. Specify dtype option on import or set low_memory=False.\n",
      "  train_set = pd.read_csv(local_path)\n"
     ]
    },
    {
     "data": {
      "text/html": [
       "<div>\n",
       "<style scoped>\n",
       "    .dataframe tbody tr th:only-of-type {\n",
       "        vertical-align: middle;\n",
       "    }\n",
       "\n",
       "    .dataframe tbody tr th {\n",
       "        vertical-align: top;\n",
       "    }\n",
       "\n",
       "    .dataframe thead th {\n",
       "        text-align: right;\n",
       "    }\n",
       "</style>\n",
       "<table border=\"1\" class=\"dataframe\">\n",
       "  <thead>\n",
       "    <tr style=\"text-align: right;\">\n",
       "      <th></th>\n",
       "      <th>id</th>\n",
       "      <th>name</th>\n",
       "      <th>host_id</th>\n",
       "      <th>host_name</th>\n",
       "      <th>neighbourhood_group</th>\n",
       "      <th>neighbourhood</th>\n",
       "      <th>latitude</th>\n",
       "      <th>longitude</th>\n",
       "      <th>room_type</th>\n",
       "      <th>price</th>\n",
       "      <th>minimum_nights</th>\n",
       "      <th>number_of_reviews</th>\n",
       "      <th>last_review</th>\n",
       "      <th>reviews_per_month</th>\n",
       "      <th>calculated_host_listings_count</th>\n",
       "      <th>availability_365</th>\n",
       "      <th>number_of_reviews_ltm</th>\n",
       "      <th>license</th>\n",
       "    </tr>\n",
       "  </thead>\n",
       "  <tbody>\n",
       "    <tr>\n",
       "      <th>0</th>\n",
       "      <td>718031653455200639</td>\n",
       "      <td>Cozy Work from Home Studio in Upper East Side</td>\n",
       "      <td>2867137</td>\n",
       "      <td>Avi</td>\n",
       "      <td>Manhattan</td>\n",
       "      <td>Upper East Side</td>\n",
       "      <td>40.76939</td>\n",
       "      <td>-73.95498</td>\n",
       "      <td>Entire home/apt</td>\n",
       "      <td>150</td>\n",
       "      <td>30</td>\n",
       "      <td>0</td>\n",
       "      <td>NaN</td>\n",
       "      <td>NaN</td>\n",
       "      <td>80</td>\n",
       "      <td>180</td>\n",
       "      <td>0</td>\n",
       "      <td>NaN</td>\n",
       "    </tr>\n",
       "    <tr>\n",
       "      <th>1</th>\n",
       "      <td>53570786</td>\n",
       "      <td>NEW Renovated room and bathroom. (2FL)</td>\n",
       "      <td>19303369</td>\n",
       "      <td>Hiroki</td>\n",
       "      <td>Queens</td>\n",
       "      <td>Elmhurst</td>\n",
       "      <td>40.74515</td>\n",
       "      <td>-73.87187</td>\n",
       "      <td>Private room</td>\n",
       "      <td>39</td>\n",
       "      <td>30</td>\n",
       "      <td>1</td>\n",
       "      <td>2022-10-09</td>\n",
       "      <td>0.52</td>\n",
       "      <td>196</td>\n",
       "      <td>0</td>\n",
       "      <td>1</td>\n",
       "      <td>NaN</td>\n",
       "    </tr>\n",
       "    <tr>\n",
       "      <th>2</th>\n",
       "      <td>2142092</td>\n",
       "      <td>Furnished room - W. 181 St. by A, 1</td>\n",
       "      <td>8280182</td>\n",
       "      <td>Alejandro</td>\n",
       "      <td>Manhattan</td>\n",
       "      <td>Washington Heights</td>\n",
       "      <td>40.85098</td>\n",
       "      <td>-73.93664</td>\n",
       "      <td>Private room</td>\n",
       "      <td>300</td>\n",
       "      <td>30</td>\n",
       "      <td>0</td>\n",
       "      <td>NaN</td>\n",
       "      <td>NaN</td>\n",
       "      <td>1</td>\n",
       "      <td>0</td>\n",
       "      <td>0</td>\n",
       "      <td>NaN</td>\n",
       "    </tr>\n",
       "    <tr>\n",
       "      <th>3</th>\n",
       "      <td>26916746</td>\n",
       "      <td>Brooklyn Home</td>\n",
       "      <td>193502084</td>\n",
       "      <td>Linda</td>\n",
       "      <td>Brooklyn</td>\n",
       "      <td>Borough Park</td>\n",
       "      <td>40.64045</td>\n",
       "      <td>-74.00404</td>\n",
       "      <td>Private room</td>\n",
       "      <td>40</td>\n",
       "      <td>30</td>\n",
       "      <td>26</td>\n",
       "      <td>2019-03-20</td>\n",
       "      <td>0.49</td>\n",
       "      <td>8</td>\n",
       "      <td>0</td>\n",
       "      <td>0</td>\n",
       "      <td>NaN</td>\n",
       "    </tr>\n",
       "    <tr>\n",
       "      <th>4</th>\n",
       "      <td>74333</td>\n",
       "      <td>Alcove Studio w/ outdoor Patio Deck</td>\n",
       "      <td>331328</td>\n",
       "      <td>Amir</td>\n",
       "      <td>Manhattan</td>\n",
       "      <td>East Harlem</td>\n",
       "      <td>40.80834</td>\n",
       "      <td>-73.94075</td>\n",
       "      <td>Entire home/apt</td>\n",
       "      <td>100</td>\n",
       "      <td>30</td>\n",
       "      <td>39</td>\n",
       "      <td>2022-10-04</td>\n",
       "      <td>0.29</td>\n",
       "      <td>2</td>\n",
       "      <td>347</td>\n",
       "      <td>3</td>\n",
       "      <td>NaN</td>\n",
       "    </tr>\n",
       "  </tbody>\n",
       "</table>\n",
       "</div>"
      ],
      "text/plain": [
       "                   id                                           name  \\\n",
       "0  718031653455200639  Cozy Work from Home Studio in Upper East Side   \n",
       "1            53570786         NEW Renovated room and bathroom. (2FL)   \n",
       "2             2142092            Furnished room - W. 181 St. by A, 1   \n",
       "3            26916746                                  Brooklyn Home   \n",
       "4               74333            Alcove Studio w/ outdoor Patio Deck   \n",
       "\n",
       "     host_id  host_name neighbourhood_group       neighbourhood  latitude  \\\n",
       "0    2867137        Avi           Manhattan     Upper East Side  40.76939   \n",
       "1   19303369     Hiroki              Queens            Elmhurst  40.74515   \n",
       "2    8280182  Alejandro           Manhattan  Washington Heights  40.85098   \n",
       "3  193502084      Linda            Brooklyn        Borough Park  40.64045   \n",
       "4     331328       Amir           Manhattan         East Harlem  40.80834   \n",
       "\n",
       "   longitude        room_type  price  minimum_nights  number_of_reviews  \\\n",
       "0  -73.95498  Entire home/apt    150              30                  0   \n",
       "1  -73.87187     Private room     39              30                  1   \n",
       "2  -73.93664     Private room    300              30                  0   \n",
       "3  -74.00404     Private room     40              30                 26   \n",
       "4  -73.94075  Entire home/apt    100              30                 39   \n",
       "\n",
       "  last_review  reviews_per_month  calculated_host_listings_count  \\\n",
       "0         NaN                NaN                              80   \n",
       "1  2022-10-09               0.52                             196   \n",
       "2         NaN                NaN                               1   \n",
       "3  2019-03-20               0.49                               8   \n",
       "4  2022-10-04               0.29                               2   \n",
       "\n",
       "   availability_365  number_of_reviews_ltm license  \n",
       "0               180                      0     NaN  \n",
       "1                 0                      1     NaN  \n",
       "2                 0                      0     NaN  \n",
       "3                 0                      0     NaN  \n",
       "4               347                      3     NaN  "
      ]
     },
     "execution_count": 2,
     "metadata": {},
     "output_type": "execute_result"
    }
   ],
   "source": [
    "# read train set as a pandas dataframe\n",
    "run = wandb.init(\n",
    "project='rental-prices-ny', entity='vitorabdo')\n",
    "local_path = wandb.use_artifact('train_set:latest').file()\n",
    "train_set = pd.read_csv(local_path)\n",
    "train_set.head()"
   ]
  },
  {
   "attachments": {},
   "cell_type": "markdown",
   "metadata": {},
   "source": [
    "## Cleaning Step"
   ]
  },
  {
   "cell_type": "code",
   "execution_count": 3,
   "metadata": {},
   "outputs": [],
   "source": [
    "# Drop outliers\n",
    "df_clean = train_set.loc[\n",
    "    (train_set['price'] >= 10) &\n",
    "    (train_set['price'] <= 5944) &\n",
    "    (train_set['minimum_nights'] >= 1) &\n",
    "    (train_set['minimum_nights'] <= 370)\n",
    "]"
   ]
  },
  {
   "attachments": {},
   "cell_type": "markdown",
   "metadata": {},
   "source": [
    "## Preprocessing Step"
   ]
  },
  {
   "cell_type": "code",
   "execution_count": 4,
   "metadata": {},
   "outputs": [],
   "source": [
    "# categorical values\n",
    "ordinal_categorical = ['room_type']\n",
    "non_ordinal_categorical = ['neighbourhood_group']\n",
    "\n",
    "# numerical values\n",
    "zero_imputed = [\n",
    "    'minimum_nights',\n",
    "    'number_of_reviews',\n",
    "    'reviews_per_month',\n",
    "    'calculated_host_listings_count',\n",
    "    'availability_365']"
   ]
  },
  {
   "cell_type": "code",
   "execution_count": 5,
   "metadata": {},
   "outputs": [],
   "source": [
    "# select only the features that we are going to use\n",
    "X = df_clean.drop(['price'], axis=1)\n",
    "y = df_clean['price']"
   ]
  },
  {
   "cell_type": "code",
   "execution_count": 6,
   "metadata": {},
   "outputs": [],
   "source": [
    "# categorical preprocessing\n",
    "ordinal_categorical_preproc = ce.OrdinalEncoder(\n",
    "    cols = ordinal_categorical, \n",
    "    mapping = [\n",
    "        {'col':'room_type',\n",
    "         'mapping':{'Shared room':0,\n",
    "                    'Private room':1,\n",
    "                    'Entire home/apt':2,\n",
    "                    'Hotel room':3}}])\n",
    "    \n",
    "non_ordinal_categorical_preproc = make_pipeline(\n",
    "        SimpleImputer(strategy='most_frequent'),\n",
    "        OneHotEncoder(drop='first'))"
   ]
  },
  {
   "cell_type": "code",
   "execution_count": 7,
   "metadata": {},
   "outputs": [],
   "source": [
    "# numerical preprocessing\n",
    "zero_imputer = SimpleImputer(strategy='constant', fill_value=0)"
   ]
  },
  {
   "cell_type": "code",
   "execution_count": 8,
   "metadata": {},
   "outputs": [],
   "source": [
    "# apply the respective transformations with columntransformer method\n",
    "preprocessor = ColumnTransformer([\n",
    "    ('ordinal_cat', ordinal_categorical_preproc, ordinal_categorical),\n",
    "    ('non_ordinal_cat', non_ordinal_categorical_preproc, non_ordinal_categorical),\n",
    "    ('impute_zero', zero_imputer, zero_imputed)],\n",
    "    remainder='drop')"
   ]
  },
  {
   "cell_type": "code",
   "execution_count": 9,
   "metadata": {},
   "outputs": [
    {
     "data": {
      "text/html": [
       "<style>#sk-container-id-1 {color: black;background-color: white;}#sk-container-id-1 pre{padding: 0;}#sk-container-id-1 div.sk-toggleable {background-color: white;}#sk-container-id-1 label.sk-toggleable__label {cursor: pointer;display: block;width: 100%;margin-bottom: 0;padding: 0.3em;box-sizing: border-box;text-align: center;}#sk-container-id-1 label.sk-toggleable__label-arrow:before {content: \"▸\";float: left;margin-right: 0.25em;color: #696969;}#sk-container-id-1 label.sk-toggleable__label-arrow:hover:before {color: black;}#sk-container-id-1 div.sk-estimator:hover label.sk-toggleable__label-arrow:before {color: black;}#sk-container-id-1 div.sk-toggleable__content {max-height: 0;max-width: 0;overflow: hidden;text-align: left;background-color: #f0f8ff;}#sk-container-id-1 div.sk-toggleable__content pre {margin: 0.2em;color: black;border-radius: 0.25em;background-color: #f0f8ff;}#sk-container-id-1 input.sk-toggleable__control:checked~div.sk-toggleable__content {max-height: 200px;max-width: 100%;overflow: auto;}#sk-container-id-1 input.sk-toggleable__control:checked~label.sk-toggleable__label-arrow:before {content: \"▾\";}#sk-container-id-1 div.sk-estimator input.sk-toggleable__control:checked~label.sk-toggleable__label {background-color: #d4ebff;}#sk-container-id-1 div.sk-label input.sk-toggleable__control:checked~label.sk-toggleable__label {background-color: #d4ebff;}#sk-container-id-1 input.sk-hidden--visually {border: 0;clip: rect(1px 1px 1px 1px);clip: rect(1px, 1px, 1px, 1px);height: 1px;margin: -1px;overflow: hidden;padding: 0;position: absolute;width: 1px;}#sk-container-id-1 div.sk-estimator {font-family: monospace;background-color: #f0f8ff;border: 1px dotted black;border-radius: 0.25em;box-sizing: border-box;margin-bottom: 0.5em;}#sk-container-id-1 div.sk-estimator:hover {background-color: #d4ebff;}#sk-container-id-1 div.sk-parallel-item::after {content: \"\";width: 100%;border-bottom: 1px solid gray;flex-grow: 1;}#sk-container-id-1 div.sk-label:hover label.sk-toggleable__label {background-color: #d4ebff;}#sk-container-id-1 div.sk-serial::before {content: \"\";position: absolute;border-left: 1px solid gray;box-sizing: border-box;top: 0;bottom: 0;left: 50%;z-index: 0;}#sk-container-id-1 div.sk-serial {display: flex;flex-direction: column;align-items: center;background-color: white;padding-right: 0.2em;padding-left: 0.2em;position: relative;}#sk-container-id-1 div.sk-item {position: relative;z-index: 1;}#sk-container-id-1 div.sk-parallel {display: flex;align-items: stretch;justify-content: center;background-color: white;position: relative;}#sk-container-id-1 div.sk-item::before, #sk-container-id-1 div.sk-parallel-item::before {content: \"\";position: absolute;border-left: 1px solid gray;box-sizing: border-box;top: 0;bottom: 0;left: 50%;z-index: -1;}#sk-container-id-1 div.sk-parallel-item {display: flex;flex-direction: column;z-index: 1;position: relative;background-color: white;}#sk-container-id-1 div.sk-parallel-item:first-child::after {align-self: flex-end;width: 50%;}#sk-container-id-1 div.sk-parallel-item:last-child::after {align-self: flex-start;width: 50%;}#sk-container-id-1 div.sk-parallel-item:only-child::after {width: 0;}#sk-container-id-1 div.sk-dashed-wrapped {border: 1px dashed gray;margin: 0 0.4em 0.5em 0.4em;box-sizing: border-box;padding-bottom: 0.4em;background-color: white;}#sk-container-id-1 div.sk-label label {font-family: monospace;font-weight: bold;display: inline-block;line-height: 1.2em;}#sk-container-id-1 div.sk-label-container {text-align: center;}#sk-container-id-1 div.sk-container {/* jupyter's `normalize.less` sets `[hidden] { display: none; }` but bootstrap.min.css set `[hidden] { display: none !important; }` so we also need the `!important` here to be able to override the default hidden behavior on the sphinx rendered scikit-learn.org. See: https://github.com/scikit-learn/scikit-learn/issues/21755 */display: inline-block !important;position: relative;}#sk-container-id-1 div.sk-text-repr-fallback {display: none;}</style><div id=\"sk-container-id-1\" class=\"sk-top-container\"><div class=\"sk-text-repr-fallback\"><pre>ColumnTransformer(transformers=[(&#x27;ordinal_cat&#x27;,\n",
       "                                 OrdinalEncoder(cols=[&#x27;room_type&#x27;],\n",
       "                                                mapping=[{&#x27;col&#x27;: &#x27;room_type&#x27;,\n",
       "                                                          &#x27;data_type&#x27;: dtype(&#x27;O&#x27;),\n",
       "                                                          &#x27;mapping&#x27;: Shared room        0\n",
       "Private room       1\n",
       "Entire home/apt    2\n",
       "Hotel room         3\n",
       "dtype: int64}]),\n",
       "                                 [&#x27;room_type&#x27;]),\n",
       "                                (&#x27;non_ordinal_cat&#x27;,\n",
       "                                 Pipeline(steps=[(&#x27;simpleimputer&#x27;,\n",
       "                                                  SimpleImputer(strategy=&#x27;most_frequent&#x27;)),\n",
       "                                                 (&#x27;onehotencoder&#x27;,\n",
       "                                                  OneHotEncoder(drop=&#x27;first&#x27;))]),\n",
       "                                 [&#x27;neighbourhood_group&#x27;]),\n",
       "                                (&#x27;impute_zero&#x27;,\n",
       "                                 SimpleImputer(fill_value=0,\n",
       "                                               strategy=&#x27;constant&#x27;),\n",
       "                                 [&#x27;minimum_nights&#x27;, &#x27;number_of_reviews&#x27;,\n",
       "                                  &#x27;reviews_per_month&#x27;,\n",
       "                                  &#x27;calculated_host_listings_count&#x27;,\n",
       "                                  &#x27;availability_365&#x27;])])</pre><b>In a Jupyter environment, please rerun this cell to show the HTML representation or trust the notebook. <br />On GitHub, the HTML representation is unable to render, please try loading this page with nbviewer.org.</b></div><div class=\"sk-container\" hidden><div class=\"sk-item sk-dashed-wrapped\"><div class=\"sk-label-container\"><div class=\"sk-label sk-toggleable\"><input class=\"sk-toggleable__control sk-hidden--visually\" id=\"sk-estimator-id-1\" type=\"checkbox\" ><label for=\"sk-estimator-id-1\" class=\"sk-toggleable__label sk-toggleable__label-arrow\">ColumnTransformer</label><div class=\"sk-toggleable__content\"><pre>ColumnTransformer(transformers=[(&#x27;ordinal_cat&#x27;,\n",
       "                                 OrdinalEncoder(cols=[&#x27;room_type&#x27;],\n",
       "                                                mapping=[{&#x27;col&#x27;: &#x27;room_type&#x27;,\n",
       "                                                          &#x27;data_type&#x27;: dtype(&#x27;O&#x27;),\n",
       "                                                          &#x27;mapping&#x27;: Shared room        0\n",
       "Private room       1\n",
       "Entire home/apt    2\n",
       "Hotel room         3\n",
       "dtype: int64}]),\n",
       "                                 [&#x27;room_type&#x27;]),\n",
       "                                (&#x27;non_ordinal_cat&#x27;,\n",
       "                                 Pipeline(steps=[(&#x27;simpleimputer&#x27;,\n",
       "                                                  SimpleImputer(strategy=&#x27;most_frequent&#x27;)),\n",
       "                                                 (&#x27;onehotencoder&#x27;,\n",
       "                                                  OneHotEncoder(drop=&#x27;first&#x27;))]),\n",
       "                                 [&#x27;neighbourhood_group&#x27;]),\n",
       "                                (&#x27;impute_zero&#x27;,\n",
       "                                 SimpleImputer(fill_value=0,\n",
       "                                               strategy=&#x27;constant&#x27;),\n",
       "                                 [&#x27;minimum_nights&#x27;, &#x27;number_of_reviews&#x27;,\n",
       "                                  &#x27;reviews_per_month&#x27;,\n",
       "                                  &#x27;calculated_host_listings_count&#x27;,\n",
       "                                  &#x27;availability_365&#x27;])])</pre></div></div></div><div class=\"sk-parallel\"><div class=\"sk-parallel-item\"><div class=\"sk-item\"><div class=\"sk-label-container\"><div class=\"sk-label sk-toggleable\"><input class=\"sk-toggleable__control sk-hidden--visually\" id=\"sk-estimator-id-2\" type=\"checkbox\" ><label for=\"sk-estimator-id-2\" class=\"sk-toggleable__label sk-toggleable__label-arrow\">ordinal_cat</label><div class=\"sk-toggleable__content\"><pre>[&#x27;room_type&#x27;]</pre></div></div></div><div class=\"sk-serial\"><div class=\"sk-item\"><div class=\"sk-estimator sk-toggleable\"><input class=\"sk-toggleable__control sk-hidden--visually\" id=\"sk-estimator-id-3\" type=\"checkbox\" ><label for=\"sk-estimator-id-3\" class=\"sk-toggleable__label sk-toggleable__label-arrow\">OrdinalEncoder</label><div class=\"sk-toggleable__content\"><pre>OrdinalEncoder(cols=[&#x27;room_type&#x27;],\n",
       "               mapping=[{&#x27;col&#x27;: &#x27;room_type&#x27;, &#x27;data_type&#x27;: dtype(&#x27;O&#x27;),\n",
       "                         &#x27;mapping&#x27;: Shared room        0\n",
       "Private room       1\n",
       "Entire home/apt    2\n",
       "Hotel room         3\n",
       "dtype: int64}])</pre></div></div></div></div></div></div><div class=\"sk-parallel-item\"><div class=\"sk-item\"><div class=\"sk-label-container\"><div class=\"sk-label sk-toggleable\"><input class=\"sk-toggleable__control sk-hidden--visually\" id=\"sk-estimator-id-4\" type=\"checkbox\" ><label for=\"sk-estimator-id-4\" class=\"sk-toggleable__label sk-toggleable__label-arrow\">non_ordinal_cat</label><div class=\"sk-toggleable__content\"><pre>[&#x27;neighbourhood_group&#x27;]</pre></div></div></div><div class=\"sk-serial\"><div class=\"sk-item\"><div class=\"sk-serial\"><div class=\"sk-item\"><div class=\"sk-estimator sk-toggleable\"><input class=\"sk-toggleable__control sk-hidden--visually\" id=\"sk-estimator-id-5\" type=\"checkbox\" ><label for=\"sk-estimator-id-5\" class=\"sk-toggleable__label sk-toggleable__label-arrow\">SimpleImputer</label><div class=\"sk-toggleable__content\"><pre>SimpleImputer(strategy=&#x27;most_frequent&#x27;)</pre></div></div></div><div class=\"sk-item\"><div class=\"sk-estimator sk-toggleable\"><input class=\"sk-toggleable__control sk-hidden--visually\" id=\"sk-estimator-id-6\" type=\"checkbox\" ><label for=\"sk-estimator-id-6\" class=\"sk-toggleable__label sk-toggleable__label-arrow\">OneHotEncoder</label><div class=\"sk-toggleable__content\"><pre>OneHotEncoder(drop=&#x27;first&#x27;)</pre></div></div></div></div></div></div></div></div><div class=\"sk-parallel-item\"><div class=\"sk-item\"><div class=\"sk-label-container\"><div class=\"sk-label sk-toggleable\"><input class=\"sk-toggleable__control sk-hidden--visually\" id=\"sk-estimator-id-7\" type=\"checkbox\" ><label for=\"sk-estimator-id-7\" class=\"sk-toggleable__label sk-toggleable__label-arrow\">impute_zero</label><div class=\"sk-toggleable__content\"><pre>[&#x27;minimum_nights&#x27;, &#x27;number_of_reviews&#x27;, &#x27;reviews_per_month&#x27;, &#x27;calculated_host_listings_count&#x27;, &#x27;availability_365&#x27;]</pre></div></div></div><div class=\"sk-serial\"><div class=\"sk-item\"><div class=\"sk-estimator sk-toggleable\"><input class=\"sk-toggleable__control sk-hidden--visually\" id=\"sk-estimator-id-8\" type=\"checkbox\" ><label for=\"sk-estimator-id-8\" class=\"sk-toggleable__label sk-toggleable__label-arrow\">SimpleImputer</label><div class=\"sk-toggleable__content\"><pre>SimpleImputer(fill_value=0, strategy=&#x27;constant&#x27;)</pre></div></div></div></div></div></div></div></div></div></div>"
      ],
      "text/plain": [
       "ColumnTransformer(transformers=[('ordinal_cat',\n",
       "                                 OrdinalEncoder(cols=['room_type'],\n",
       "                                                mapping=[{'col': 'room_type',\n",
       "                                                          'data_type': dtype('O'),\n",
       "                                                          'mapping': Shared room        0\n",
       "Private room       1\n",
       "Entire home/apt    2\n",
       "Hotel room         3\n",
       "dtype: int64}]),\n",
       "                                 ['room_type']),\n",
       "                                ('non_ordinal_cat',\n",
       "                                 Pipeline(steps=[('simpleimputer',\n",
       "                                                  SimpleImputer(strategy='most_frequent')),\n",
       "                                                 ('onehotencoder',\n",
       "                                                  OneHotEncoder(drop='first'))]),\n",
       "                                 ['neighbourhood_group']),\n",
       "                                ('impute_zero',\n",
       "                                 SimpleImputer(fill_value=0,\n",
       "                                               strategy='constant'),\n",
       "                                 ['minimum_nights', 'number_of_reviews',\n",
       "                                  'reviews_per_month',\n",
       "                                  'calculated_host_listings_count',\n",
       "                                  'availability_365'])])"
      ]
     },
     "execution_count": 9,
     "metadata": {},
     "output_type": "execute_result"
    }
   ],
   "source": [
    "X_transformed = preprocessor.fit(X)\n",
    "X_transformed"
   ]
  },
  {
   "cell_type": "code",
   "execution_count": 10,
   "metadata": {},
   "outputs": [],
   "source": [
    "processed_features = ordinal_categorical + non_ordinal_categorical + zero_imputed"
   ]
  },
  {
   "cell_type": "code",
   "execution_count": 11,
   "metadata": {},
   "outputs": [
    {
     "name": "stdout",
     "output_type": "stream",
     "text": [
      "['room_type', 'neighbourhood_group', 'minimum_nights', 'number_of_reviews', 'reviews_per_month', 'calculated_host_listings_count', 'availability_365']\n"
     ]
    }
   ],
   "source": [
    "print(processed_features)"
   ]
  },
  {
   "cell_type": "code",
   "execution_count": 1,
   "metadata": {},
   "outputs": [
    {
     "ename": "NameError",
     "evalue": "name 'run' is not defined",
     "output_type": "error",
     "traceback": [
      "\u001b[1;31m---------------------------------------------------------------------------\u001b[0m",
      "\u001b[1;31mNameError\u001b[0m                                 Traceback (most recent call last)",
      "Cell \u001b[1;32mIn[1], line 1\u001b[0m\n\u001b[1;32m----> 1\u001b[0m run\u001b[39m.\u001b[39mfinish()\n",
      "\u001b[1;31mNameError\u001b[0m: name 'run' is not defined"
     ]
    }
   ],
   "source": [
    "run.finish()"
   ]
  },
  {
   "cell_type": "code",
   "execution_count": null,
   "metadata": {},
   "outputs": [],
   "source": []
  }
 ],
 "metadata": {
  "kernelspec": {
   "display_name": "Python 3",
   "language": "python",
   "name": "python3"
  },
  "language_info": {
   "codemirror_mode": {
    "name": "ipython",
    "version": 3
   },
   "file_extension": ".py",
   "mimetype": "text/x-python",
   "name": "python",
   "nbconvert_exporter": "python",
   "pygments_lexer": "ipython3",
   "version": "3.10.9"
  },
  "orig_nbformat": 4,
  "vscode": {
   "interpreter": {
    "hash": "8dee898ae7ceba216e316f1e7e61d5a519768ade4905eb25ae05d4345cd77dde"
   }
  }
 },
 "nbformat": 4,
 "nbformat_minor": 2
}
