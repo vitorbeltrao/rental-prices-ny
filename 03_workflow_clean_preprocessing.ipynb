{
 "cells": [
  {
   "attachments": {},
   "cell_type": "markdown",
   "metadata": {},
   "source": [
    "# Clean and Preprocessing Data"
   ]
  },
  {
   "cell_type": "code",
   "execution_count": 2,
   "metadata": {},
   "outputs": [],
   "source": [
    "# import necessary packages\n",
    "import pandas as pd\n",
    "import wandb\n",
    "\n",
    "from sklearn.preprocessing import StandardScaler\n",
    "from sklearn.preprocessing import OneHotEncoder\n",
    "\n",
    "from sklearn.compose import ColumnTransformer\n",
    "from sklearn.compose import make_column_selector as selector"
   ]
  },
  {
   "cell_type": "code",
   "execution_count": 3,
   "metadata": {},
   "outputs": [
    {
     "name": "stderr",
     "output_type": "stream",
     "text": [
      "Failed to detect the name of this notebook, you can set it manually with the WANDB_NOTEBOOK_NAME environment variable to enable code saving.\n",
      "\u001b[34m\u001b[1mwandb\u001b[0m: Currently logged in as: \u001b[33mvitorbeltraoo\u001b[0m (\u001b[33mvitorabdo\u001b[0m). Use \u001b[1m`wandb login --relogin`\u001b[0m to force relogin\n"
     ]
    },
    {
     "data": {
      "text/html": [
       "Tracking run with wandb version 0.13.9"
      ],
      "text/plain": [
       "<IPython.core.display.HTML object>"
      ]
     },
     "metadata": {},
     "output_type": "display_data"
    },
    {
     "data": {
      "text/html": [
       "Run data is saved locally in <code>c:\\Users\\4YouSee\\Desktop\\personal_work\\rental-prices-ny\\wandb\\run-20230131_102442-1i77m4td</code>"
      ],
      "text/plain": [
       "<IPython.core.display.HTML object>"
      ]
     },
     "metadata": {},
     "output_type": "display_data"
    },
    {
     "data": {
      "text/html": [
       "Syncing run <strong><a href=\"https://wandb.ai/vitorabdo/rental-prices-ny/runs/1i77m4td\" target=\"_blank\">fortuitous-festival-39</a></strong> to <a href=\"https://wandb.ai/vitorabdo/rental-prices-ny\" target=\"_blank\">Weights & Biases</a> (<a href=\"https://wandb.me/run\" target=\"_blank\">docs</a>)<br/>"
      ],
      "text/plain": [
       "<IPython.core.display.HTML object>"
      ]
     },
     "metadata": {},
     "output_type": "display_data"
    },
    {
     "data": {
      "text/html": [
       " View project at <a href=\"https://wandb.ai/vitorabdo/rental-prices-ny\" target=\"_blank\">https://wandb.ai/vitorabdo/rental-prices-ny</a>"
      ],
      "text/plain": [
       "<IPython.core.display.HTML object>"
      ]
     },
     "metadata": {},
     "output_type": "display_data"
    },
    {
     "data": {
      "text/html": [
       " View run at <a href=\"https://wandb.ai/vitorabdo/rental-prices-ny/runs/1i77m4td\" target=\"_blank\">https://wandb.ai/vitorabdo/rental-prices-ny/runs/1i77m4td</a>"
      ],
      "text/plain": [
       "<IPython.core.display.HTML object>"
      ]
     },
     "metadata": {},
     "output_type": "display_data"
    },
    {
     "name": "stderr",
     "output_type": "stream",
     "text": [
      "C:\\Users\\4YouSee\\AppData\\Local\\Temp\\ipykernel_27092\\1966939953.py:5: DtypeWarning: Columns (17) have mixed types. Specify dtype option on import or set low_memory=False.\n",
      "  train_set = pd.read_csv(local_path)\n"
     ]
    },
    {
     "data": {
      "text/html": [
       "<div>\n",
       "<style scoped>\n",
       "    .dataframe tbody tr th:only-of-type {\n",
       "        vertical-align: middle;\n",
       "    }\n",
       "\n",
       "    .dataframe tbody tr th {\n",
       "        vertical-align: top;\n",
       "    }\n",
       "\n",
       "    .dataframe thead th {\n",
       "        text-align: right;\n",
       "    }\n",
       "</style>\n",
       "<table border=\"1\" class=\"dataframe\">\n",
       "  <thead>\n",
       "    <tr style=\"text-align: right;\">\n",
       "      <th></th>\n",
       "      <th>id</th>\n",
       "      <th>name</th>\n",
       "      <th>host_id</th>\n",
       "      <th>host_name</th>\n",
       "      <th>neighbourhood_group</th>\n",
       "      <th>neighbourhood</th>\n",
       "      <th>latitude</th>\n",
       "      <th>longitude</th>\n",
       "      <th>room_type</th>\n",
       "      <th>price</th>\n",
       "      <th>minimum_nights</th>\n",
       "      <th>number_of_reviews</th>\n",
       "      <th>last_review</th>\n",
       "      <th>reviews_per_month</th>\n",
       "      <th>calculated_host_listings_count</th>\n",
       "      <th>availability_365</th>\n",
       "      <th>number_of_reviews_ltm</th>\n",
       "      <th>license</th>\n",
       "    </tr>\n",
       "  </thead>\n",
       "  <tbody>\n",
       "    <tr>\n",
       "      <th>0</th>\n",
       "      <td>718031653455200639</td>\n",
       "      <td>Cozy Work from Home Studio in Upper East Side</td>\n",
       "      <td>2867137</td>\n",
       "      <td>Avi</td>\n",
       "      <td>Manhattan</td>\n",
       "      <td>Upper East Side</td>\n",
       "      <td>40.76939</td>\n",
       "      <td>-73.95498</td>\n",
       "      <td>Entire home/apt</td>\n",
       "      <td>150</td>\n",
       "      <td>30</td>\n",
       "      <td>0</td>\n",
       "      <td>NaN</td>\n",
       "      <td>NaN</td>\n",
       "      <td>80</td>\n",
       "      <td>180</td>\n",
       "      <td>0</td>\n",
       "      <td>NaN</td>\n",
       "    </tr>\n",
       "    <tr>\n",
       "      <th>1</th>\n",
       "      <td>53570786</td>\n",
       "      <td>NEW Renovated room and bathroom. (2FL)</td>\n",
       "      <td>19303369</td>\n",
       "      <td>Hiroki</td>\n",
       "      <td>Queens</td>\n",
       "      <td>Elmhurst</td>\n",
       "      <td>40.74515</td>\n",
       "      <td>-73.87187</td>\n",
       "      <td>Private room</td>\n",
       "      <td>39</td>\n",
       "      <td>30</td>\n",
       "      <td>1</td>\n",
       "      <td>2022-10-09</td>\n",
       "      <td>0.52</td>\n",
       "      <td>196</td>\n",
       "      <td>0</td>\n",
       "      <td>1</td>\n",
       "      <td>NaN</td>\n",
       "    </tr>\n",
       "    <tr>\n",
       "      <th>2</th>\n",
       "      <td>2142092</td>\n",
       "      <td>Furnished room - W. 181 St. by A, 1</td>\n",
       "      <td>8280182</td>\n",
       "      <td>Alejandro</td>\n",
       "      <td>Manhattan</td>\n",
       "      <td>Washington Heights</td>\n",
       "      <td>40.85098</td>\n",
       "      <td>-73.93664</td>\n",
       "      <td>Private room</td>\n",
       "      <td>300</td>\n",
       "      <td>30</td>\n",
       "      <td>0</td>\n",
       "      <td>NaN</td>\n",
       "      <td>NaN</td>\n",
       "      <td>1</td>\n",
       "      <td>0</td>\n",
       "      <td>0</td>\n",
       "      <td>NaN</td>\n",
       "    </tr>\n",
       "    <tr>\n",
       "      <th>3</th>\n",
       "      <td>26916746</td>\n",
       "      <td>Brooklyn Home</td>\n",
       "      <td>193502084</td>\n",
       "      <td>Linda</td>\n",
       "      <td>Brooklyn</td>\n",
       "      <td>Borough Park</td>\n",
       "      <td>40.64045</td>\n",
       "      <td>-74.00404</td>\n",
       "      <td>Private room</td>\n",
       "      <td>40</td>\n",
       "      <td>30</td>\n",
       "      <td>26</td>\n",
       "      <td>2019-03-20</td>\n",
       "      <td>0.49</td>\n",
       "      <td>8</td>\n",
       "      <td>0</td>\n",
       "      <td>0</td>\n",
       "      <td>NaN</td>\n",
       "    </tr>\n",
       "    <tr>\n",
       "      <th>4</th>\n",
       "      <td>74333</td>\n",
       "      <td>Alcove Studio w/ outdoor Patio Deck</td>\n",
       "      <td>331328</td>\n",
       "      <td>Amir</td>\n",
       "      <td>Manhattan</td>\n",
       "      <td>East Harlem</td>\n",
       "      <td>40.80834</td>\n",
       "      <td>-73.94075</td>\n",
       "      <td>Entire home/apt</td>\n",
       "      <td>100</td>\n",
       "      <td>30</td>\n",
       "      <td>39</td>\n",
       "      <td>2022-10-04</td>\n",
       "      <td>0.29</td>\n",
       "      <td>2</td>\n",
       "      <td>347</td>\n",
       "      <td>3</td>\n",
       "      <td>NaN</td>\n",
       "    </tr>\n",
       "  </tbody>\n",
       "</table>\n",
       "</div>"
      ],
      "text/plain": [
       "                   id                                           name  \\\n",
       "0  718031653455200639  Cozy Work from Home Studio in Upper East Side   \n",
       "1            53570786         NEW Renovated room and bathroom. (2FL)   \n",
       "2             2142092            Furnished room - W. 181 St. by A, 1   \n",
       "3            26916746                                  Brooklyn Home   \n",
       "4               74333            Alcove Studio w/ outdoor Patio Deck   \n",
       "\n",
       "     host_id  host_name neighbourhood_group       neighbourhood  latitude  \\\n",
       "0    2867137        Avi           Manhattan     Upper East Side  40.76939   \n",
       "1   19303369     Hiroki              Queens            Elmhurst  40.74515   \n",
       "2    8280182  Alejandro           Manhattan  Washington Heights  40.85098   \n",
       "3  193502084      Linda            Brooklyn        Borough Park  40.64045   \n",
       "4     331328       Amir           Manhattan         East Harlem  40.80834   \n",
       "\n",
       "   longitude        room_type  price  minimum_nights  number_of_reviews  \\\n",
       "0  -73.95498  Entire home/apt    150              30                  0   \n",
       "1  -73.87187     Private room     39              30                  1   \n",
       "2  -73.93664     Private room    300              30                  0   \n",
       "3  -74.00404     Private room     40              30                 26   \n",
       "4  -73.94075  Entire home/apt    100              30                 39   \n",
       "\n",
       "  last_review  reviews_per_month  calculated_host_listings_count  \\\n",
       "0         NaN                NaN                              80   \n",
       "1  2022-10-09               0.52                             196   \n",
       "2         NaN                NaN                               1   \n",
       "3  2019-03-20               0.49                               8   \n",
       "4  2022-10-04               0.29                               2   \n",
       "\n",
       "   availability_365  number_of_reviews_ltm license  \n",
       "0               180                      0     NaN  \n",
       "1                 0                      1     NaN  \n",
       "2                 0                      0     NaN  \n",
       "3                 0                      0     NaN  \n",
       "4               347                      3     NaN  "
      ]
     },
     "execution_count": 3,
     "metadata": {},
     "output_type": "execute_result"
    }
   ],
   "source": [
    "# read train set as a pandas dataframe\n",
    "run = wandb.init(\n",
    "project='rental-prices-ny', entity='vitorabdo')\n",
    "local_path = wandb.use_artifact('train_set:latest').file()\n",
    "train_set = pd.read_csv(local_path)\n",
    "train_set.head()"
   ]
  },
  {
   "attachments": {},
   "cell_type": "markdown",
   "metadata": {},
   "source": [
    "## Cleaning Step"
   ]
  },
  {
   "cell_type": "code",
   "execution_count": 11,
   "metadata": {},
   "outputs": [],
   "source": [
    "# Drop outliers\n",
    "df_clean = train_set.loc[\n",
    "    (train_set['price'] >= 10) &\n",
    "    (train_set['price'] <= 5944) &\n",
    "    (train_set['minimum_nights'] >= 1) &\n",
    "    (train_set['minimum_nights'] <= 370)\n",
    "]"
   ]
  },
  {
   "attachments": {},
   "cell_type": "markdown",
   "metadata": {},
   "source": [
    "## Preprocessing Step"
   ]
  },
  {
   "cell_type": "code",
   "execution_count": null,
   "metadata": {},
   "outputs": [],
   "source": []
  }
 ],
 "metadata": {
  "kernelspec": {
   "display_name": "Python 3",
   "language": "python",
   "name": "python3"
  },
  "language_info": {
   "codemirror_mode": {
    "name": "ipython",
    "version": 3
   },
   "file_extension": ".py",
   "mimetype": "text/x-python",
   "name": "python",
   "nbconvert_exporter": "python",
   "pygments_lexer": "ipython3",
   "version": "3.10.9"
  },
  "orig_nbformat": 4,
  "vscode": {
   "interpreter": {
    "hash": "8dee898ae7ceba216e316f1e7e61d5a519768ade4905eb25ae05d4345cd77dde"
   }
  }
 },
 "nbformat": 4,
 "nbformat_minor": 2
}
