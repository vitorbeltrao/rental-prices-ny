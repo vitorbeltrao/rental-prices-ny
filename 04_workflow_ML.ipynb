{
 "cells": [
  {
   "attachments": {},
   "cell_type": "markdown",
   "metadata": {},
   "source": [
    "# ML Pipeline"
   ]
  },
  {
   "cell_type": "code",
   "execution_count": 1,
   "metadata": {},
   "outputs": [],
   "source": [
    "# Import necessary packages\n",
    "import pandas as pd\n",
    "import numpy as np\n",
    "import mlflow\n",
    "from datetime import datetime\n",
    "from scipy import stats\n",
    "\n",
    "from sklearn.preprocessing import StandardScaler\n",
    "from sklearn.preprocessing import OneHotEncoder, OrdinalEncoder\n",
    "\n",
    "from sklearn.linear_model import LinearRegression\n",
    "from sklearn.linear_model import ElasticNet\n",
    "from sklearn.tree import DecisionTreeRegressor\n",
    "from sklearn import svm\n",
    "from sklearn.ensemble import GradientBoostingRegressor\n",
    "from sklearn.ensemble import RandomForestRegressor\n",
    "\n",
    "from sklearn.pipeline import Pipeline, make_pipeline\n",
    "\n",
    "from sklearn.model_selection import cross_validate\n",
    "from sklearn.model_selection import GridSearchCV\n",
    "from sklearn.model_selection import train_test_split\n",
    "\n",
    "from sklearn.metrics import r2_score\n",
    "from sklearn.metrics import mean_squared_error\n",
    "\n",
    "from sklearn.compose import ColumnTransformer\n",
    "\n",
    "import category_encoders as ce\n",
    "\n",
    "from sklearn.impute import SimpleImputer"
   ]
  },
  {
   "cell_type": "code",
   "execution_count": 2,
   "metadata": {},
   "outputs": [
    {
     "name": "stderr",
     "output_type": "stream",
     "text": [
      "Failed to detect the name of this notebook, you can set it manually with the WANDB_NOTEBOOK_NAME environment variable to enable code saving.\n",
      "\u001b[34m\u001b[1mwandb\u001b[0m: Currently logged in as: \u001b[33mvitorbeltraoo\u001b[0m (\u001b[33mvitorabdo\u001b[0m). Use \u001b[1m`wandb login --relogin`\u001b[0m to force relogin\n"
     ]
    },
    {
     "data": {
      "text/html": [
       "Tracking run with wandb version 0.13.9"
      ],
      "text/plain": [
       "<IPython.core.display.HTML object>"
      ]
     },
     "metadata": {},
     "output_type": "display_data"
    },
    {
     "data": {
      "text/html": [
       "Run data is saved locally in <code>c:\\Users\\4YouSee\\Desktop\\personal_work\\rental-prices-ny\\wandb\\run-20230202_154823-lhplhm81</code>"
      ],
      "text/plain": [
       "<IPython.core.display.HTML object>"
      ]
     },
     "metadata": {},
     "output_type": "display_data"
    },
    {
     "data": {
      "text/html": [
       "Syncing run <strong><a href=\"https://wandb.ai/vitorabdo/rental-prices-ny/runs/lhplhm81\" target=\"_blank\">resplendent-peony-58</a></strong> to <a href=\"https://wandb.ai/vitorabdo/rental-prices-ny\" target=\"_blank\">Weights & Biases</a> (<a href=\"https://wandb.me/run\" target=\"_blank\">docs</a>)<br/>"
      ],
      "text/plain": [
       "<IPython.core.display.HTML object>"
      ]
     },
     "metadata": {},
     "output_type": "display_data"
    },
    {
     "data": {
      "text/html": [
       " View project at <a href=\"https://wandb.ai/vitorabdo/rental-prices-ny\" target=\"_blank\">https://wandb.ai/vitorabdo/rental-prices-ny</a>"
      ],
      "text/plain": [
       "<IPython.core.display.HTML object>"
      ]
     },
     "metadata": {},
     "output_type": "display_data"
    },
    {
     "data": {
      "text/html": [
       " View run at <a href=\"https://wandb.ai/vitorabdo/rental-prices-ny/runs/lhplhm81\" target=\"_blank\">https://wandb.ai/vitorabdo/rental-prices-ny/runs/lhplhm81</a>"
      ],
      "text/plain": [
       "<IPython.core.display.HTML object>"
      ]
     },
     "metadata": {},
     "output_type": "display_data"
    },
    {
     "data": {
      "text/html": [
       "<div>\n",
       "<style scoped>\n",
       "    .dataframe tbody tr th:only-of-type {\n",
       "        vertical-align: middle;\n",
       "    }\n",
       "\n",
       "    .dataframe tbody tr th {\n",
       "        vertical-align: top;\n",
       "    }\n",
       "\n",
       "    .dataframe thead th {\n",
       "        text-align: right;\n",
       "    }\n",
       "</style>\n",
       "<table border=\"1\" class=\"dataframe\">\n",
       "  <thead>\n",
       "    <tr style=\"text-align: right;\">\n",
       "      <th></th>\n",
       "      <th>id</th>\n",
       "      <th>name</th>\n",
       "      <th>host_id</th>\n",
       "      <th>host_name</th>\n",
       "      <th>neighbourhood_group</th>\n",
       "      <th>neighbourhood</th>\n",
       "      <th>latitude</th>\n",
       "      <th>longitude</th>\n",
       "      <th>room_type</th>\n",
       "      <th>price</th>\n",
       "      <th>minimum_nights</th>\n",
       "      <th>number_of_reviews</th>\n",
       "      <th>last_review</th>\n",
       "      <th>reviews_per_month</th>\n",
       "      <th>calculated_host_listings_count</th>\n",
       "      <th>availability_365</th>\n",
       "      <th>number_of_reviews_ltm</th>\n",
       "      <th>license</th>\n",
       "    </tr>\n",
       "  </thead>\n",
       "  <tbody>\n",
       "    <tr>\n",
       "      <th>0</th>\n",
       "      <td>718031653455200639</td>\n",
       "      <td>Cozy Work from Home Studio in Upper East Side</td>\n",
       "      <td>2867137</td>\n",
       "      <td>Avi</td>\n",
       "      <td>Manhattan</td>\n",
       "      <td>Upper East Side</td>\n",
       "      <td>40.76939</td>\n",
       "      <td>-73.95498</td>\n",
       "      <td>Entire home/apt</td>\n",
       "      <td>150</td>\n",
       "      <td>30</td>\n",
       "      <td>0</td>\n",
       "      <td>NaN</td>\n",
       "      <td>NaN</td>\n",
       "      <td>80</td>\n",
       "      <td>180</td>\n",
       "      <td>0</td>\n",
       "      <td>NaN</td>\n",
       "    </tr>\n",
       "    <tr>\n",
       "      <th>1</th>\n",
       "      <td>53570786</td>\n",
       "      <td>NEW Renovated room and bathroom. (2FL)</td>\n",
       "      <td>19303369</td>\n",
       "      <td>Hiroki</td>\n",
       "      <td>Queens</td>\n",
       "      <td>Elmhurst</td>\n",
       "      <td>40.74515</td>\n",
       "      <td>-73.87187</td>\n",
       "      <td>Private room</td>\n",
       "      <td>39</td>\n",
       "      <td>30</td>\n",
       "      <td>1</td>\n",
       "      <td>2022-10-09</td>\n",
       "      <td>0.52</td>\n",
       "      <td>196</td>\n",
       "      <td>0</td>\n",
       "      <td>1</td>\n",
       "      <td>NaN</td>\n",
       "    </tr>\n",
       "    <tr>\n",
       "      <th>2</th>\n",
       "      <td>2142092</td>\n",
       "      <td>Furnished room - W. 181 St. by A, 1</td>\n",
       "      <td>8280182</td>\n",
       "      <td>Alejandro</td>\n",
       "      <td>Manhattan</td>\n",
       "      <td>Washington Heights</td>\n",
       "      <td>40.85098</td>\n",
       "      <td>-73.93664</td>\n",
       "      <td>Private room</td>\n",
       "      <td>300</td>\n",
       "      <td>30</td>\n",
       "      <td>0</td>\n",
       "      <td>NaN</td>\n",
       "      <td>NaN</td>\n",
       "      <td>1</td>\n",
       "      <td>0</td>\n",
       "      <td>0</td>\n",
       "      <td>NaN</td>\n",
       "    </tr>\n",
       "    <tr>\n",
       "      <th>3</th>\n",
       "      <td>26916746</td>\n",
       "      <td>Brooklyn Home</td>\n",
       "      <td>193502084</td>\n",
       "      <td>Linda</td>\n",
       "      <td>Brooklyn</td>\n",
       "      <td>Borough Park</td>\n",
       "      <td>40.64045</td>\n",
       "      <td>-74.00404</td>\n",
       "      <td>Private room</td>\n",
       "      <td>40</td>\n",
       "      <td>30</td>\n",
       "      <td>26</td>\n",
       "      <td>2019-03-20</td>\n",
       "      <td>0.49</td>\n",
       "      <td>8</td>\n",
       "      <td>0</td>\n",
       "      <td>0</td>\n",
       "      <td>NaN</td>\n",
       "    </tr>\n",
       "    <tr>\n",
       "      <th>4</th>\n",
       "      <td>74333</td>\n",
       "      <td>Alcove Studio w/ outdoor Patio Deck</td>\n",
       "      <td>331328</td>\n",
       "      <td>Amir</td>\n",
       "      <td>Manhattan</td>\n",
       "      <td>East Harlem</td>\n",
       "      <td>40.80834</td>\n",
       "      <td>-73.94075</td>\n",
       "      <td>Entire home/apt</td>\n",
       "      <td>100</td>\n",
       "      <td>30</td>\n",
       "      <td>39</td>\n",
       "      <td>2022-10-04</td>\n",
       "      <td>0.29</td>\n",
       "      <td>2</td>\n",
       "      <td>347</td>\n",
       "      <td>3</td>\n",
       "      <td>NaN</td>\n",
       "    </tr>\n",
       "  </tbody>\n",
       "</table>\n",
       "</div>"
      ],
      "text/plain": [
       "                   id                                           name  \\\n",
       "0  718031653455200639  Cozy Work from Home Studio in Upper East Side   \n",
       "1            53570786         NEW Renovated room and bathroom. (2FL)   \n",
       "2             2142092            Furnished room - W. 181 St. by A, 1   \n",
       "3            26916746                                  Brooklyn Home   \n",
       "4               74333            Alcove Studio w/ outdoor Patio Deck   \n",
       "\n",
       "     host_id  host_name neighbourhood_group       neighbourhood  latitude  \\\n",
       "0    2867137        Avi           Manhattan     Upper East Side  40.76939   \n",
       "1   19303369     Hiroki              Queens            Elmhurst  40.74515   \n",
       "2    8280182  Alejandro           Manhattan  Washington Heights  40.85098   \n",
       "3  193502084      Linda            Brooklyn        Borough Park  40.64045   \n",
       "4     331328       Amir           Manhattan         East Harlem  40.80834   \n",
       "\n",
       "   longitude        room_type  price  minimum_nights  number_of_reviews  \\\n",
       "0  -73.95498  Entire home/apt    150              30                  0   \n",
       "1  -73.87187     Private room     39              30                  1   \n",
       "2  -73.93664     Private room    300              30                  0   \n",
       "3  -74.00404     Private room     40              30                 26   \n",
       "4  -73.94075  Entire home/apt    100              30                 39   \n",
       "\n",
       "  last_review  reviews_per_month  calculated_host_listings_count  \\\n",
       "0         NaN                NaN                              80   \n",
       "1  2022-10-09               0.52                             196   \n",
       "2         NaN                NaN                               1   \n",
       "3  2019-03-20               0.49                               8   \n",
       "4  2022-10-04               0.29                               2   \n",
       "\n",
       "   availability_365  number_of_reviews_ltm license  \n",
       "0               180                      0     NaN  \n",
       "1                 0                      1     NaN  \n",
       "2                 0                      0     NaN  \n",
       "3                 0                      0     NaN  \n",
       "4               347                      3     NaN  "
      ]
     },
     "execution_count": 2,
     "metadata": {},
     "output_type": "execute_result"
    }
   ],
   "source": [
    "# read train set as a pandas dataframe\n",
    "df_clean = pd.read_csv('C:/Users/4YouSee/Desktop/personal_work/rental-prices-ny/components/basic_clean/df_clean.csv', low_memory=False)\n",
    "df_clean.head()"
   ]
  },
  {
   "attachments": {},
   "cell_type": "markdown",
   "metadata": {},
   "source": [
    "## Clean and Preprocessing Data"
   ]
  },
  {
   "cell_type": "code",
   "execution_count": 3,
   "metadata": {},
   "outputs": [],
   "source": [
    "# categorical values\n",
    "ordinal_categorical = ['room_type']\n",
    "non_ordinal_categorical = ['neighbourhood_group']\n",
    "\n",
    "# numerical values\n",
    "zero_imputed = [\n",
    "    'minimum_nights',\n",
    "    'number_of_reviews',\n",
    "    'reviews_per_month',\n",
    "    'calculated_host_listings_count',\n",
    "    'availability_365']\n",
    "\n",
    "# select only the features that we are going to use\n",
    "X = df_clean.drop(['price'], axis=1)\n",
    "y = df_clean['price']\n",
    "\n",
    "# categorical preprocessing\n",
    "ordinal_categorical_preproc = ce.OrdinalEncoder(\n",
    "    cols = ordinal_categorical, \n",
    "    mapping = [\n",
    "        {'col':'room_type',\n",
    "         'mapping':{'Shared room':0,\n",
    "                    'Private room':1,\n",
    "                    'Entire home/apt':2,\n",
    "                    'Hotel room':3}}])\n",
    "    \n",
    "non_ordinal_categorical_preproc = make_pipeline(\n",
    "        SimpleImputer(strategy='most_frequent'),\n",
    "        OneHotEncoder(drop='first'))\n",
    "\n",
    "# numerical preprocessing\n",
    "zero_imputer = SimpleImputer(strategy='constant', fill_value=0)\n",
    "\n",
    "# apply the respective transformations with columntransformer method\n",
    "preprocessor = ColumnTransformer([\n",
    "    ('ordinal_cat', ordinal_categorical_preproc, ordinal_categorical),\n",
    "    ('non_ordinal_cat', non_ordinal_categorical_preproc, non_ordinal_categorical),\n",
    "    ('impute_zero', zero_imputer, zero_imputed)],\n",
    "    remainder='drop')"
   ]
  },
  {
   "attachments": {},
   "cell_type": "markdown",
   "metadata": {},
   "source": [
    "## Setting up MLFlow Experiments"
   ]
  },
  {
   "cell_type": "code",
   "execution_count": null,
   "metadata": {},
   "outputs": [],
   "source": [
    "# Setting up the mlflow experiment\n",
    "experiment_path = 'C:/Users/4YouSee/Desktop/personal_work/rental-prices-ny' # Defining the path of experiments in MLFlow\n",
    "experiment_name = '01_rental_prices_ny' # Defining the experiment name in MLFlow\n",
    "\n",
    "if(not(mlflow.get_experiment_by_name(experiment_name))): # If the experiment does not exist, create it\n",
    "    mlflow.create_experiment(experiment_name)\n",
    "    \n",
    "mlflow.set_experiment(experiment_name) # Set the current experiment to register in MLFlow"
   ]
  },
  {
   "cell_type": "code",
   "execution_count": null,
   "metadata": {},
   "outputs": [],
   "source": [
    "# Setting current date to save\n",
    "year = str(datetime.today().year)\n",
    "month = str(datetime.today().month)\n",
    "if len(month) == 1:\n",
    "    month = \"0\" + month\n",
    "day = str(datetime.today().day)\n",
    "if len(day) == 1:\n",
    "    day = \"0\" + day\n",
    "date = year + \"/\" + month + \"/\" + day "
   ]
  },
  {
   "attachments": {},
   "cell_type": "markdown",
   "metadata": {},
   "source": [
    "## Training and Model Selection"
   ]
  },
  {
   "cell_type": "code",
   "execution_count": 4,
   "metadata": {},
   "outputs": [],
   "source": [
    "def run_regressor_models(X, y, cv, scoring):\n",
    "    '''Function that trains the following machine learning models:\n",
    "    Linear regression, elastic net, decision tree, SVM, gradient boosting and\n",
    "    random forest. The function applies cross-validation on the dataset and\n",
    "    returns the mean of the selected metric in the training and validation set.\n",
    "    The only active metrics are the root mean squared error and R². The \n",
    "    experiments with models are tracked by MLflow.\n",
    "    \n",
    "    :param X: (dataframe or numpy array) \n",
    "    Dataframe or array with set of independent variables.\n",
    "    \n",
    "    :param y: (series or numpy array)\n",
    "    Column or vector array with the dependent variable.\n",
    "    \n",
    "    :param cv: (int)\n",
    "    Determines the cross-validation split strategy. Number of k-folds.\n",
    "    \n",
    "    :param scoring: (str)\n",
    "    Strategy to evaluate the performance of the cross-validation model in the \n",
    "    validation set. Must be passed in quotes when calling the function.\n",
    "    '''\n",
    "    # 1. Instantiate the models\n",
    "    lr = LinearRegression()\n",
    "    elastic_net = ElasticNet()\n",
    "    tree = DecisionTreeRegressor()\n",
    "    svm_reg = svm.SVR()\n",
    "    gbr = GradientBoostingRegressor()\n",
    "    rf = RandomForestRegressor()\n",
    "\n",
    "    # 2. train and evaluate the models\n",
    "    for model in (lr, elastic_net, tree, svm_reg, gbr, rf):\n",
    "        pipe = Pipeline(\n",
    "            steps=[('preprocessor', preprocessor),\n",
    "                   ('scaling', StandardScaler()),\n",
    "                   ('regressor', model)\n",
    "                  ]\n",
    "                )\n",
    "        scores = cross_validate(pipe, X, y, return_train_score=True,\n",
    "                                scoring=scoring, cv=cv)\n",
    "\n",
    "        # train and validation with rmse\n",
    "        if scoring == 'neg_mean_squared_error':\n",
    "            train_rmse_scores = np.sqrt(-scores['train_score'])\n",
    "            test_rmse_scores = np.sqrt(-scores['test_score'])\n",
    "\n",
    "            # track the experiment with rmse\n",
    "            mlflow.start_run(run_name = date) \n",
    "            mlflow.log_param('Date', date) \n",
    "            mlflow.log_param('Features', X.columns)\n",
    "            mlflow.log_param('Pre-processing', preprocessor) \n",
    "            mlflow.log_param('ML model', pipe[2])\n",
    "\n",
    "            mlflow.log_metric('Train_rmse', train_rmse_scores)\n",
    "            mlflow.log_metric('Test_rmse', test_rmse_scores)\n",
    "\n",
    "            mlflow.end_run()\n",
    "\n",
    "        # train and validation with r2\n",
    "        if scoring == 'r2':\n",
    "            train_r2_scores = np.mean(scores['train_score'])\n",
    "            test_r2_scores = np.mean(scores['test_score'])\n",
    "\n",
    "            # track the experiment with r2\n",
    "            mlflow.start_run(run_name = date) \n",
    "            mlflow.log_param('Date', date) \n",
    "            mlflow.log_param('Features', X.columns)\n",
    "            mlflow.log_param('Pre-processing', preprocessor) \n",
    "            mlflow.log_param('ML model', pipe[2])\n",
    "\n",
    "            mlflow.log_metric('Train_r2', train_r2_scores)\n",
    "            mlflow.log_metric('Test_r2', test_r2_scores)\n",
    "\n",
    "            mlflow.end_run()"
   ]
  },
  {
   "cell_type": "code",
   "execution_count": 5,
   "metadata": {},
   "outputs": [
    {
     "ename": "TypeError",
     "evalue": "Object of type Index is not JSON serializable",
     "output_type": "error",
     "traceback": [
      "\u001b[1;31m---------------------------------------------------------------------------\u001b[0m",
      "\u001b[1;31mTypeError\u001b[0m                                 Traceback (most recent call last)",
      "Cell \u001b[1;32mIn[5], line 2\u001b[0m\n\u001b[0;32m      1\u001b[0m \u001b[39m# Run regressors\u001b[39;00m\n\u001b[1;32m----> 2\u001b[0m run_regressor_models(X, y, \u001b[39m5\u001b[39;49m, \u001b[39m'\u001b[39;49m\u001b[39mr2\u001b[39;49m\u001b[39m'\u001b[39;49m)\n",
      "Cell \u001b[1;32mIn[4], line 59\u001b[0m, in \u001b[0;36mrun_regressor_models\u001b[1;34m(X, y, cv, scoring)\u001b[0m\n\u001b[0;32m     56\u001b[0m test_r2_scores \u001b[39m=\u001b[39m np\u001b[39m.\u001b[39mmean(scores[\u001b[39m'\u001b[39m\u001b[39mtest_score\u001b[39m\u001b[39m'\u001b[39m])\n\u001b[0;32m     58\u001b[0m \u001b[39m# track the experiment with r2\u001b[39;00m\n\u001b[1;32m---> 59\u001b[0m run\u001b[39m.\u001b[39;49msummary[\u001b[39m'\u001b[39;49m\u001b[39mfeatures\u001b[39;49m\u001b[39m'\u001b[39;49m] \u001b[39m=\u001b[39m X\u001b[39m.\u001b[39mcolumns\n\u001b[0;32m     60\u001b[0m run\u001b[39m.\u001b[39msummary[\u001b[39m'\u001b[39m\u001b[39mpre-processing\u001b[39m\u001b[39m'\u001b[39m] \u001b[39m=\u001b[39m preprocessor\n\u001b[0;32m     61\u001b[0m run\u001b[39m.\u001b[39msummary[\u001b[39m'\u001b[39m\u001b[39mml_model\u001b[39m\u001b[39m'\u001b[39m] \u001b[39m=\u001b[39m pipe[\u001b[39m2\u001b[39m]\n",
      "File \u001b[1;32mc:\\Users\\4YouSee\\AppData\\Local\\Programs\\Python\\Python310\\lib\\site-packages\\wandb\\sdk\\wandb_summary.py:50\u001b[0m, in \u001b[0;36mSummaryDict.__setitem__\u001b[1;34m(self, key, val)\u001b[0m\n\u001b[0;32m     49\u001b[0m \u001b[39mdef\u001b[39;00m \u001b[39m__setitem__\u001b[39m(\u001b[39mself\u001b[39m, key, val):\n\u001b[1;32m---> 50\u001b[0m     \u001b[39mself\u001b[39;49m\u001b[39m.\u001b[39;49mupdate({key: val})\n",
      "File \u001b[1;32mc:\\Users\\4YouSee\\AppData\\Local\\Programs\\Python\\Python310\\lib\\site-packages\\wandb\\sdk\\wandb_summary.py:72\u001b[0m, in \u001b[0;36mSummaryDict.update\u001b[1;34m(self, d)\u001b[0m\n\u001b[0;32m     69\u001b[0m     item\u001b[39m.\u001b[39mvalue \u001b[39m=\u001b[39m value\n\u001b[0;32m     70\u001b[0m     record\u001b[39m.\u001b[39mupdate\u001b[39m.\u001b[39mappend(item)\n\u001b[1;32m---> 72\u001b[0m \u001b[39mself\u001b[39;49m\u001b[39m.\u001b[39;49m_update(record)\n",
      "File \u001b[1;32mc:\\Users\\4YouSee\\AppData\\Local\\Programs\\Python\\Python310\\lib\\site-packages\\wandb\\sdk\\wandb_summary.py:127\u001b[0m, in \u001b[0;36mSummary._update\u001b[1;34m(self, record)\u001b[0m\n\u001b[0;32m    125\u001b[0m \u001b[39mdef\u001b[39;00m \u001b[39m_update\u001b[39m(\u001b[39mself\u001b[39m, record: SummaryRecord):\n\u001b[0;32m    126\u001b[0m     \u001b[39mif\u001b[39;00m \u001b[39mself\u001b[39m\u001b[39m.\u001b[39m_update_callback:\n\u001b[1;32m--> 127\u001b[0m         \u001b[39mself\u001b[39;49m\u001b[39m.\u001b[39;49m_update_callback(record)\n",
      "File \u001b[1;32mc:\\Users\\4YouSee\\AppData\\Local\\Programs\\Python\\Python310\\lib\\site-packages\\wandb\\sdk\\wandb_run.py:1295\u001b[0m, in \u001b[0;36mRun._summary_update_callback\u001b[1;34m(self, summary_record)\u001b[0m\n\u001b[0;32m   1293\u001b[0m \u001b[39mdef\u001b[39;00m \u001b[39m_summary_update_callback\u001b[39m(\u001b[39mself\u001b[39m, summary_record: SummaryRecord) \u001b[39m-\u001b[39m\u001b[39m>\u001b[39m \u001b[39mNone\u001b[39;00m:\n\u001b[0;32m   1294\u001b[0m     \u001b[39mif\u001b[39;00m \u001b[39mself\u001b[39m\u001b[39m.\u001b[39m_backend \u001b[39mand\u001b[39;00m \u001b[39mself\u001b[39m\u001b[39m.\u001b[39m_backend\u001b[39m.\u001b[39minterface:\n\u001b[1;32m-> 1295\u001b[0m         \u001b[39mself\u001b[39;49m\u001b[39m.\u001b[39;49m_backend\u001b[39m.\u001b[39;49minterface\u001b[39m.\u001b[39;49mpublish_summary(summary_record)\n",
      "File \u001b[1;32mc:\\Users\\4YouSee\\AppData\\Local\\Programs\\Python\\Python310\\lib\\site-packages\\wandb\\sdk\\interface\\interface.py:332\u001b[0m, in \u001b[0;36mInterfaceBase.publish_summary\u001b[1;34m(self, summary_record)\u001b[0m\n\u001b[0;32m    331\u001b[0m \u001b[39mdef\u001b[39;00m \u001b[39mpublish_summary\u001b[39m(\u001b[39mself\u001b[39m, summary_record: sr\u001b[39m.\u001b[39mSummaryRecord) \u001b[39m-\u001b[39m\u001b[39m>\u001b[39m \u001b[39mNone\u001b[39;00m:\n\u001b[1;32m--> 332\u001b[0m     pb_summary_record \u001b[39m=\u001b[39m \u001b[39mself\u001b[39;49m\u001b[39m.\u001b[39;49m_make_summary(summary_record)\n\u001b[0;32m    333\u001b[0m     \u001b[39mself\u001b[39m\u001b[39m.\u001b[39m_publish_summary(pb_summary_record)\n",
      "File \u001b[1;32mc:\\Users\\4YouSee\\AppData\\Local\\Programs\\Python\\Python310\\lib\\site-packages\\wandb\\sdk\\interface\\interface.py:313\u001b[0m, in \u001b[0;36mInterfaceBase._make_summary\u001b[1;34m(self, summary_record)\u001b[0m\n\u001b[0;32m    310\u001b[0m     json_value \u001b[39m=\u001b[39m \u001b[39mself\u001b[39m\u001b[39m.\u001b[39m_summary_encode(item\u001b[39m.\u001b[39mvalue, path_from_root)\n\u001b[0;32m    311\u001b[0m     json_value, _ \u001b[39m=\u001b[39m json_friendly(json_value)  \u001b[39m# type: ignore\u001b[39;00m\n\u001b[1;32m--> 313\u001b[0m     pb_summary_item\u001b[39m.\u001b[39mvalue_json \u001b[39m=\u001b[39m json\u001b[39m.\u001b[39;49mdumps(\n\u001b[0;32m    314\u001b[0m         json_value,\n\u001b[0;32m    315\u001b[0m         \u001b[39mcls\u001b[39;49m\u001b[39m=\u001b[39;49mWandBJSONEncoderOld,\n\u001b[0;32m    316\u001b[0m     )\n\u001b[0;32m    318\u001b[0m \u001b[39mfor\u001b[39;00m item \u001b[39min\u001b[39;00m summary_record\u001b[39m.\u001b[39mremove:\n\u001b[0;32m    319\u001b[0m     pb_summary_item \u001b[39m=\u001b[39m pb_summary_record\u001b[39m.\u001b[39mremove\u001b[39m.\u001b[39madd()\n",
      "File \u001b[1;32mc:\\Users\\4YouSee\\AppData\\Local\\Programs\\Python\\Python310\\lib\\json\\__init__.py:238\u001b[0m, in \u001b[0;36mdumps\u001b[1;34m(obj, skipkeys, ensure_ascii, check_circular, allow_nan, cls, indent, separators, default, sort_keys, **kw)\u001b[0m\n\u001b[0;32m    232\u001b[0m \u001b[39mif\u001b[39;00m \u001b[39mcls\u001b[39m \u001b[39mis\u001b[39;00m \u001b[39mNone\u001b[39;00m:\n\u001b[0;32m    233\u001b[0m     \u001b[39mcls\u001b[39m \u001b[39m=\u001b[39m JSONEncoder\n\u001b[0;32m    234\u001b[0m \u001b[39mreturn\u001b[39;00m \u001b[39mcls\u001b[39;49m(\n\u001b[0;32m    235\u001b[0m     skipkeys\u001b[39m=\u001b[39;49mskipkeys, ensure_ascii\u001b[39m=\u001b[39;49mensure_ascii,\n\u001b[0;32m    236\u001b[0m     check_circular\u001b[39m=\u001b[39;49mcheck_circular, allow_nan\u001b[39m=\u001b[39;49mallow_nan, indent\u001b[39m=\u001b[39;49mindent,\n\u001b[0;32m    237\u001b[0m     separators\u001b[39m=\u001b[39;49mseparators, default\u001b[39m=\u001b[39;49mdefault, sort_keys\u001b[39m=\u001b[39;49msort_keys,\n\u001b[1;32m--> 238\u001b[0m     \u001b[39m*\u001b[39;49m\u001b[39m*\u001b[39;49mkw)\u001b[39m.\u001b[39;49mencode(obj)\n",
      "File \u001b[1;32mc:\\Users\\4YouSee\\AppData\\Local\\Programs\\Python\\Python310\\lib\\json\\encoder.py:199\u001b[0m, in \u001b[0;36mJSONEncoder.encode\u001b[1;34m(self, o)\u001b[0m\n\u001b[0;32m    195\u001b[0m         \u001b[39mreturn\u001b[39;00m encode_basestring(o)\n\u001b[0;32m    196\u001b[0m \u001b[39m# This doesn't pass the iterator directly to ''.join() because the\u001b[39;00m\n\u001b[0;32m    197\u001b[0m \u001b[39m# exceptions aren't as detailed.  The list call should be roughly\u001b[39;00m\n\u001b[0;32m    198\u001b[0m \u001b[39m# equivalent to the PySequence_Fast that ''.join() would do.\u001b[39;00m\n\u001b[1;32m--> 199\u001b[0m chunks \u001b[39m=\u001b[39m \u001b[39mself\u001b[39;49m\u001b[39m.\u001b[39;49miterencode(o, _one_shot\u001b[39m=\u001b[39;49m\u001b[39mTrue\u001b[39;49;00m)\n\u001b[0;32m    200\u001b[0m \u001b[39mif\u001b[39;00m \u001b[39mnot\u001b[39;00m \u001b[39misinstance\u001b[39m(chunks, (\u001b[39mlist\u001b[39m, \u001b[39mtuple\u001b[39m)):\n\u001b[0;32m    201\u001b[0m     chunks \u001b[39m=\u001b[39m \u001b[39mlist\u001b[39m(chunks)\n",
      "File \u001b[1;32mc:\\Users\\4YouSee\\AppData\\Local\\Programs\\Python\\Python310\\lib\\json\\encoder.py:257\u001b[0m, in \u001b[0;36mJSONEncoder.iterencode\u001b[1;34m(self, o, _one_shot)\u001b[0m\n\u001b[0;32m    252\u001b[0m \u001b[39melse\u001b[39;00m:\n\u001b[0;32m    253\u001b[0m     _iterencode \u001b[39m=\u001b[39m _make_iterencode(\n\u001b[0;32m    254\u001b[0m         markers, \u001b[39mself\u001b[39m\u001b[39m.\u001b[39mdefault, _encoder, \u001b[39mself\u001b[39m\u001b[39m.\u001b[39mindent, floatstr,\n\u001b[0;32m    255\u001b[0m         \u001b[39mself\u001b[39m\u001b[39m.\u001b[39mkey_separator, \u001b[39mself\u001b[39m\u001b[39m.\u001b[39mitem_separator, \u001b[39mself\u001b[39m\u001b[39m.\u001b[39msort_keys,\n\u001b[0;32m    256\u001b[0m         \u001b[39mself\u001b[39m\u001b[39m.\u001b[39mskipkeys, _one_shot)\n\u001b[1;32m--> 257\u001b[0m \u001b[39mreturn\u001b[39;00m _iterencode(o, \u001b[39m0\u001b[39;49m)\n",
      "File \u001b[1;32mc:\\Users\\4YouSee\\AppData\\Local\\Programs\\Python\\Python310\\lib\\site-packages\\wandb\\util.py:907\u001b[0m, in \u001b[0;36mWandBJSONEncoderOld.default\u001b[1;34m(self, obj)\u001b[0m\n\u001b[0;32m    905\u001b[0m \u001b[39mif\u001b[39;00m converted:\n\u001b[0;32m    906\u001b[0m     \u001b[39mreturn\u001b[39;00m tmp_obj\n\u001b[1;32m--> 907\u001b[0m \u001b[39mreturn\u001b[39;00m json\u001b[39m.\u001b[39;49mJSONEncoder\u001b[39m.\u001b[39;49mdefault(\u001b[39mself\u001b[39;49m, tmp_obj)\n",
      "File \u001b[1;32mc:\\Users\\4YouSee\\AppData\\Local\\Programs\\Python\\Python310\\lib\\json\\encoder.py:179\u001b[0m, in \u001b[0;36mJSONEncoder.default\u001b[1;34m(self, o)\u001b[0m\n\u001b[0;32m    160\u001b[0m \u001b[39mdef\u001b[39;00m \u001b[39mdefault\u001b[39m(\u001b[39mself\u001b[39m, o):\n\u001b[0;32m    161\u001b[0m \u001b[39m    \u001b[39m\u001b[39m\"\"\"Implement this method in a subclass such that it returns\u001b[39;00m\n\u001b[0;32m    162\u001b[0m \u001b[39m    a serializable object for ``o``, or calls the base implementation\u001b[39;00m\n\u001b[0;32m    163\u001b[0m \u001b[39m    (to raise a ``TypeError``).\u001b[39;00m\n\u001b[1;32m   (...)\u001b[0m\n\u001b[0;32m    177\u001b[0m \n\u001b[0;32m    178\u001b[0m \u001b[39m    \"\"\"\u001b[39;00m\n\u001b[1;32m--> 179\u001b[0m     \u001b[39mraise\u001b[39;00m \u001b[39mTypeError\u001b[39;00m(\u001b[39mf\u001b[39m\u001b[39m'\u001b[39m\u001b[39mObject of type \u001b[39m\u001b[39m{\u001b[39;00mo\u001b[39m.\u001b[39m\u001b[39m__class__\u001b[39m\u001b[39m.\u001b[39m\u001b[39m__name__\u001b[39m\u001b[39m}\u001b[39;00m\u001b[39m \u001b[39m\u001b[39m'\u001b[39m\n\u001b[0;32m    180\u001b[0m                     \u001b[39mf\u001b[39m\u001b[39m'\u001b[39m\u001b[39mis not JSON serializable\u001b[39m\u001b[39m'\u001b[39m)\n",
      "\u001b[1;31mTypeError\u001b[0m: Object of type Index is not JSON serializable"
     ]
    }
   ],
   "source": [
    "# Run regressors\n",
    "run_regressor_models(X, y, 5, 'r2')"
   ]
  },
  {
   "cell_type": "code",
   "execution_count": null,
   "metadata": {},
   "outputs": [
    {
     "data": {
      "text/html": [
       "Waiting for W&B process to finish... <strong style=\"color:green\">(success).</strong>"
      ],
      "text/plain": [
       "<IPython.core.display.HTML object>"
      ]
     },
     "metadata": {},
     "output_type": "display_data"
    },
    {
     "data": {
      "application/vnd.jupyter.widget-view+json": {
       "model_id": "45135961ee394c94a178037ad5219126",
       "version_major": 2,
       "version_minor": 0
      },
      "text/plain": [
       "VBox(children=(Label(value='0.001 MB of 0.006 MB uploaded (0.000 MB deduped)\\r'), FloatProgress(value=0.192201…"
      ]
     },
     "metadata": {},
     "output_type": "display_data"
    },
    {
     "data": {
      "text/html": [
       "<style>\n",
       "    table.wandb td:nth-child(1) { padding: 0 10px; text-align: left ; width: auto;} td:nth-child(2) {text-align: left ; width: 100%}\n",
       "    .wandb-row { display: flex; flex-direction: row; flex-wrap: wrap; justify-content: flex-start; width: 100% }\n",
       "    .wandb-col { display: flex; flex-direction: column; flex-basis: 100%; flex: 1; padding: 10px; }\n",
       "    </style>\n",
       "<div class=\"wandb-row\"><div class=\"wandb-col\"><h3>Run summary:</h3><br/><table class=\"wandb\"><tr><td>test_r2</td><td>0.39043</td></tr><tr><td>train_r2</td><td>0.81748</td></tr></table><br/></div></div>"
      ],
      "text/plain": [
       "<IPython.core.display.HTML object>"
      ]
     },
     "metadata": {},
     "output_type": "display_data"
    },
    {
     "data": {
      "text/html": [
       " View run <strong style=\"color:#cdcd00\">red-horse-57</strong> at: <a href=\"https://wandb.ai/vitorabdo/rental-prices-ny/runs/n3w0ptp3\" target=\"_blank\">https://wandb.ai/vitorabdo/rental-prices-ny/runs/n3w0ptp3</a><br/>Synced 4 W&B file(s), 0 media file(s), 0 artifact file(s) and 0 other file(s)"
      ],
      "text/plain": [
       "<IPython.core.display.HTML object>"
      ]
     },
     "metadata": {},
     "output_type": "display_data"
    },
    {
     "data": {
      "text/html": [
       "Find logs at: <code>.\\wandb\\run-20230202_145701-n3w0ptp3\\logs</code>"
      ],
      "text/plain": [
       "<IPython.core.display.HTML object>"
      ]
     },
     "metadata": {},
     "output_type": "display_data"
    }
   ],
   "source": [
    "run.finish()"
   ]
  },
  {
   "cell_type": "code",
   "execution_count": null,
   "metadata": {},
   "outputs": [],
   "source": []
  }
 ],
 "metadata": {
  "kernelspec": {
   "display_name": "Python 3",
   "language": "python",
   "name": "python3"
  },
  "language_info": {
   "codemirror_mode": {
    "name": "ipython",
    "version": 3
   },
   "file_extension": ".py",
   "mimetype": "text/x-python",
   "name": "python",
   "nbconvert_exporter": "python",
   "pygments_lexer": "ipython3",
   "version": "3.10.9"
  },
  "orig_nbformat": 4,
  "vscode": {
   "interpreter": {
    "hash": "8dee898ae7ceba216e316f1e7e61d5a519768ade4905eb25ae05d4345cd77dde"
   }
  }
 },
 "nbformat": 4,
 "nbformat_minor": 2
}
